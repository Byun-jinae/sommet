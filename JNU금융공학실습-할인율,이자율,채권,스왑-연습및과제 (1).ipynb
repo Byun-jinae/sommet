{
 "cells": [
  {
   "cell_type": "code",
   "execution_count": 15,
   "metadata": {
    "ExecuteTime": {
     "end_time": "2020-04-09T12:32:29.071707Z",
     "start_time": "2020-04-09T12:32:29.041047Z"
    },
    "code_folding": [
     0
    ]
   },
   "outputs": [
    {
     "name": "stdout",
     "output_type": "stream",
     "text": [
      "i am linux, font NanumGothic installed\n"
     ]
    }
   ],
   "source": [
    "#그래프설정+\n",
    "\n",
    "import numpy as np\n",
    "import pandas as pd\n",
    "#import xlwings as xw\n",
    "import logging\n",
    "from datetime import datetime\n",
    "from datetime import timedelta\n",
    "#from tabulate import tabulate\n",
    "import matplotlib\n",
    "import matplotlib.font_manager as fm\n",
    "import matplotlib.pyplot as plt\n",
    "%matplotlib inline\n",
    "from mpl_toolkits.mplot3d import Axes3D\n",
    "from matplotlib import cm\n",
    "\n",
    "plt.rcParams[\"figure.figsize\"] = (12,8)\n",
    "plt.rcParams[\"font.size\"] = 12\n",
    "plt.rcParams[\"axes.unicode_minus\"] = False\n",
    "fpath = \"c:/Windows/Fonts/malgun.ttf\"\n",
    "try:\n",
    "    font_name = fm.FontProperties(fname=fpath).get_name()\n",
    "    matplotlib.rc('font', family=font_name)\n",
    "    print('i am windows, font %s installed'%font_name)\n",
    "except:\n",
    "    try:\n",
    "        fpath = '/usr/share/fonts/truetype/nanum/NanumGothic.ttf'\n",
    "        font_name = fm.FontProperties(fname=fpath, size=18).get_name()\n",
    "        matplotlib.rc('font', family=font_name)\n",
    "        print('i am linux, font %s installed'%font_name)\n",
    "    except:\n",
    "        font_name = u'AppleGothic'\n",
    "        plt.rcParams['font.family'] = font_name #u'Gulim'\n",
    "        print('i am apple, font %s installed'%font_name)"
   ]
  },
  {
   "cell_type": "markdown",
   "metadata": {
    "heading_collapsed": true
   },
   "source": [
    "### 배열만들고 이용하기  \n",
    "- 파이썬 고유 배열: [] 로 둘러쌓임. 원소는 모두 가능. <br>\n",
    "- numpy 배열: np.array( ). 원소는 **숫자, 문자 그리고 같은 크기의 이들 배열**이 가능. <br>\n",
    "---\n",
    "```\n",
    "[1, 2, 5] + [7,8,9] ==> [1,2,5, 7,8,9]\n",
    "a = [1,2,5]; a.append(4); a ==> [1,2,5,4] #다음 줄에 쓰는 대신 ; 사용 가능\n",
    "[1, 2, 3] + 4 ==> error\n",
    "\n",
    "np.array([1,2,3]) + 4 ==> np.array([5,6,7])\n",
    "np.array([1,2,5]) + np.array([7,8,9]) ==> np.array([8, 10, 14])\n",
    "같은 크기의 이들 배열: \n",
    "np.array([ [1,2,5], [7,8,9] ]) \n",
    "\n",
    "등 간격 배열 만들기\n",
    "dx=1 <-- step size\n",
    "np.arange(0, 5+dx, dx) ==> array([0., 1., 2., 3., 4., 5.])\n",
    "n=5 <-- node number\n",
    "np.linspace(0, 5, n+1) ==> array([0., 1., 2., 3., 4., 5.])\n",
    "\n",
    "배열의 길이, 차원\n",
    "len()  <-- 함수\n",
    ".shape  <-- 속성\n",
    "```"
   ]
  },
  {
   "cell_type": "code",
   "execution_count": 19,
   "metadata": {
    "ExecuteTime": {
     "end_time": "2020-04-08T13:28:09.863850Z",
     "start_time": "2020-04-08T13:28:09.855781Z"
    },
    "hidden": true
   },
   "outputs": [
    {
     "data": {
      "text/plain": [
       "array([0., 1., 2., 3., 4., 5.])"
      ]
     },
     "execution_count": 19,
     "metadata": {},
     "output_type": "execute_result"
    }
   ],
   "source": [
    "dx=1.0; np.arange(0, 5+dx, dx)\n",
    "np.linspace(0, 5, 6)"
   ]
  },
  {
   "cell_type": "code",
   "execution_count": 4,
   "metadata": {
    "ExecuteTime": {
     "end_time": "2020-04-10T00:54:38.002307Z",
     "start_time": "2020-04-10T00:54:37.988434Z"
    },
    "hidden": true
   },
   "outputs": [
    {
     "name": "stdout",
     "output_type": "stream",
     "text": [
      "disc= [1.0, 0.9412221187536747, 0.8858990768311563, 0.8338278060969454, 0.7848171743302951, 0.7386872836574324, 0.6952688102204452, 0.6544023826590339, 0.6159379971237888, 0.5797344666737473]\n",
      "----------------\n",
      "-100.00000,  -100.00000\n",
      " 9.41222,  -90.58778\n",
      "12.40259,  -78.18519\n",
      "10.00593,  -68.17926\n",
      "10.20262,  -57.97663\n",
      "11.08031,  -46.89633\n",
      "11.81957,  -35.07676\n",
      "11.77924,  -23.29751\n",
      "11.70282,  -11.59469\n",
      "11.59469,  -0.00000\n"
     ]
    }
   ],
   "source": [
    "#현금흐름을 정의, 리스트를 이용함\n",
    "cfs = [-100, 10, 14, 12, 13, 15, 17, 18, 19, 20]\n",
    "times = [0,1,2,3,4,5,6,7,8,9]\n",
    "#rate = 0.05\n",
    "rate = 0.06244847\n",
    "\n",
    "#solution)\n",
    "#만기에 따른 할인함수 계산(고정 이자율 rate를 사용)\n",
    "disc = []\n",
    "#for문 + 리스트를 이용하여 순차적으로 계산하여 disc라는 리스트에 붙인다.\n",
    "for t in times:\n",
    "    d = 1/(1+rate)**t #변수중 하나라도 소수점이 있는 실수이면 실수로 계산됨\n",
    "    disc.append(d)\n",
    "print ( f'disc= {disc}') #f-string\n",
    "print ( '----------------' )\n",
    "pv = 0\n",
    "for (c,d) in zip(cfs,disc): #zip의 사용법\n",
    "    pv = pv+c*d\n",
    "    print (f'{c*d:8.5f},  {pv:8.5f}')\n"
   ]
  },
  {
   "cell_type": "code",
   "execution_count": 5,
   "metadata": {
    "ExecuteTime": {
     "end_time": "2020-04-10T00:54:38.601788Z",
     "start_time": "2020-04-10T00:54:38.588005Z"
    },
    "hidden": true
   },
   "outputs": [
    {
     "name": "stdout",
     "output_type": "stream",
     "text": [
      "r=  [0.06244847]\n"
     ]
    }
   ],
   "source": [
    "#pv=0가되는 rate를 구하려면? fsolve를 이용함.\n",
    "#rate가 입력되면 pv가 나오는 함수를 만들고 \n",
    "#만든 함수의 결과값에 제시한 pv를 빼서 맞는 rate가 들어오면 0가 되게 함\n",
    "import numpy as np\n",
    "from scipy.optimize import fsolve\n",
    "\n",
    "def ZeroPV(r, times, cfs, pv=0):\n",
    "    temp=0\n",
    "    for t,c in zip(times,cfs):\n",
    "        d = 1/(1+r)**t \n",
    "        temp = temp+c*d #c<-현금흐름, d<-할인율\n",
    "    return temp-pv\n",
    "\n",
    "r = fsolve(ZeroPV, 0.05, args=(times,cfs))\n",
    "print ('r= ', r)\n",
    "    \n",
    "r = fsolve(ZeroPV, 0.05, args=([0,1,2],[-100,50,75]))\n",
    "\n",
    "#>> r=  [0.06244847] <==해가 여럿일 수 있기 때문에 배열을 리턴"
   ]
  },
  {
   "cell_type": "code",
   "execution_count": 7,
   "metadata": {
    "ExecuteTime": {
     "end_time": "2020-04-10T00:55:05.554731Z",
     "start_time": "2020-04-10T00:55:05.546725Z"
    },
    "hidden": true
   },
   "outputs": [
    {
     "data": {
      "text/plain": [
       "array([2.])"
      ]
     },
     "execution_count": 7,
     "metadata": {},
     "output_type": "execute_result"
    }
   ],
   "source": [
    "#fsolve의 입력함수는 간단한 경우 lambda function을 사용\n",
    "#example\n",
    "F = lambda x: x**2  - 4\n",
    "x = fsolve(F, 1)\n",
    "x"
   ]
  },
  {
   "cell_type": "markdown",
   "metadata": {},
   "source": [
    "### 고정수익증권(채권)\n",
    "Fixed Income Securities <br>\n",
    "$\\square$ Traditionally, the term fixed income securities refers to securities whose cashflows are fixed in advance and whose values therefore depend largely on the current level of interest rates. The classic example of a fixed income security is a bond which pays a fixed coupon every period until expiration when the final coupon and original principal is paid. <p>\n",
    "\n",
    "$\\square$ A stock, on the other hand, is the classic example of a non-fixed income security (or variable-income security) as the dividend payments (if they exist) and stock value vary stochastically through time. It should be mentioned, however, that since interest rates vary stochastically through time, so too do bond prices. <p>\n",
    "\n",
    "Furthermore, many securities (e.g., convertible bonds) have fixed-income and non-fixed-income characteristics so the distinction is often blurred. <p>"
   ]
  },
  {
   "cell_type": "code",
   "execution_count": 36,
   "metadata": {
    "ExecuteTime": {
     "end_time": "2020-04-09T12:57:31.088029Z",
     "start_time": "2020-04-09T12:57:31.062351Z"
    }
   },
   "outputs": [],
   "source": [
    "#채권가격의 평가함수\n",
    "#문서를 참조하여 코딩을 채우시오\n",
    "\n",
    "def BondPricefromYTM(face, ytm, coupon, freq, numcfs):\n",
    "    return 0\n",
    "\n",
    "def BondDurationfromYTM(face, ytm, coupon, freq, numcfs, ismod=True):\n",
    "    return 0\n",
    "\n",
    "def BondConvexityfromYTM(face, ytm, coupon, freq, numcfs):\n",
    "    return 0\n"
   ]
  },
  {
   "cell_type": "code",
   "execution_count": 37,
   "metadata": {
    "ExecuteTime": {
     "end_time": "2020-04-09T12:57:32.093101Z",
     "start_time": "2020-04-09T12:57:32.084120Z"
    }
   },
   "outputs": [
    {
     "data": {
      "text/plain": [
       "0.17647058823529416"
      ]
     },
     "execution_count": 37,
     "metadata": {},
     "output_type": "execute_result"
    }
   ],
   "source": [
    "face=1000\n",
    "ytm = 0.08\n",
    "coupon=0.05\n",
    "freq=1\n",
    "numcfs=3\n",
    "BondPricefromYTM(face, ytm, \n",
    "                 coupon, freq, numcfs)\n",
    "1/0.85-1"
   ]
  },
  {
   "cell_type": "code",
   "execution_count": 39,
   "metadata": {
    "ExecuteTime": {
     "end_time": "2020-04-09T12:57:33.991396Z",
     "start_time": "2020-04-09T12:57:33.973256Z"
    }
   },
   "outputs": [
    {
     "name": "stdout",
     "output_type": "stream",
     "text": [
      "58.349039526213375 6.481481481481482 65.31840000000001\n",
      "0.9537712033603878 4.699908622339534 39.05395894296115\n",
      "1.0924575932792235 4.488379244396924 36.597909996633\n",
      "0.6251867253485941 7.499004428911535 91.26265095910952\n"
     ]
    }
   ],
   "source": [
    "#Example 4 (Immunizing a Cash Flow)\n",
    "#   액면, YTM, Coupon, Freq, Numcf=Freq*Years\n",
    "oblig = [100, 0.08, 0.00, 1, 7]\n",
    "bond1 = [1  , 0.08, 0.07, 1, 6]\n",
    "bond2 = [1  , 0.08, 0.10, 1, 6]\n",
    "bond3 = [1  , 0.08, 0.02, 1, 9]\n",
    "\n",
    "def BondCalc(x):\n",
    "    #채울 것\n",
    "\n",
    "p0, d0, c0 = BondCalc(oblig)\n",
    "u1, d1, c1 = BondCalc(bond1)\n",
    "u2, d2, c2 = BondCalc(bond2)\n",
    "u3, d3, c3 = BondCalc(bond3)\n",
    "\n",
    "print (p0, d0, c0)\n",
    "print (u1, d1, c1)\n",
    "print (u2, d2, c2)\n",
    "print (u3, d3, c3)\n",
    "\n",
    "#ui is bond unit price\n"
   ]
  },
  {
   "cell_type": "code",
   "execution_count": 65,
   "metadata": {
    "ExecuteTime": {
     "end_time": "2020-04-10T00:20:52.654869Z",
     "start_time": "2020-04-10T00:20:52.636026Z"
    }
   },
   "outputs": [
    {
     "name": "stdout",
     "output_type": "stream",
     "text": [
      "X= [-4058.49094892  3900.8923123    212.30206111]\n",
      "----------------\n",
      "\n",
      "P0= 54.703424484331265\n",
      "----------------\n",
      "\n",
      "A*X= [[  -4058.49094892    3900.8923123      212.30206111]\n",
      " [ -19074.53660454   17508.68408916    1592.05409652]\n",
      " [-158500.13888969  142764.50575215   19375.24890081]]\n",
      "----------------\n",
      "\n",
      "B= [  54.70342448   26.20158114 3639.61576327]\n",
      "----------------\n",
      "\n",
      "bondprice=  [-4058.49094892  3900.8923123    212.30206111]\n",
      "bondface=  [-4255.2039049   3570.74941517   339.58184411]\n"
     ]
    }
   ],
   "source": [
    "import numpy as np\n",
    "A  = np.array( [ [1,1,1 ],[d1,d2,d3 ],[c1,c2,c3 ] ] )\n",
    "B  = np.array([p0, p0*d0, p0*c0 ])\n",
    "X = np.linalg.solve(A, B)\n",
    "print ('X=', X)\n",
    "print ('----------------\\n')\n",
    "print ('P0=', X.sum())\n",
    "print ('----------------\\n')\n",
    "print ('A*X=', A*X)\n",
    "print ('----------------\\n')\n",
    "print ('B=', B)\n",
    "print ('----------------\\n')\n",
    "bondprices = X\n",
    "bondfaces = X/[u1, u2, u3]\n",
    "print ('bondprice= ', bondprices)\n",
    "print ('bondface= ', bondfaces)"
   ]
  },
  {
   "cell_type": "code",
   "execution_count": 41,
   "metadata": {
    "ExecuteTime": {
     "end_time": "2020-04-09T12:57:35.819660Z",
     "start_time": "2020-04-09T12:57:35.812836Z"
    }
   },
   "outputs": [
    {
     "data": {
      "text/plain": [
       "[100, 0.08, 0.0, 1, 7]"
      ]
     },
     "execution_count": 41,
     "metadata": {},
     "output_type": "execute_result"
    }
   ],
   "source": [
    "oblig"
   ]
  },
  {
   "cell_type": "code",
   "execution_count": 69,
   "metadata": {
    "ExecuteTime": {
     "end_time": "2020-04-10T00:29:04.934208Z",
     "start_time": "2020-04-10T00:29:04.915040Z"
    }
   },
   "outputs": [
    {
     "name": "stdout",
     "output_type": "stream",
     "text": [
      "==========================\n",
      "price,       duration,       convexity\n",
      "66.506,          6.604,          62.922\n",
      "55.837,          1.634,          87.881\n"
     ]
    }
   ],
   "source": [
    "#   액면, YTM, Coupon, Freq, Numcf=Freq*Years\n",
    "oblig = [100, 0.08, 0.00, 1, 7]\n",
    "bond1 = [1  , 0.08, 0.07, 1, 6]\n",
    "bond2 = [1  , 0.08, 0.10, 1, 6]\n",
    "bond3 = [1  , 0.08, 0.02, 1, 9]\n",
    "specs = [bond1, bond2, bond3]\n",
    "\n",
    "def BondPortfolio(specs):\n",
    "    #채울 것\n",
    "#----------------------------------\n",
    "#액면금액 설정\n",
    "specs[0][0] = X[0]/u1\n",
    "specs[1][0] = X[1]/u2\n",
    "specs[2][0] = X[2]/u3\n",
    "#YTM 재설정\n",
    "ytm = 0.06\n",
    "specs[0][1] = ytm\n",
    "specs[1][1] = ytm\n",
    "specs[2][1] = ytm\n",
    "#----------------------------------\n",
    "#print ('specs= ', specs)\n",
    "print ('==========================')\n",
    "oblig[1] = ytm\n",
    "print ('price,       duration,       convexity')\n",
    "temp = [f'{x:.3f}' for x in BondPortfolio(oblig)]\n",
    "print(f'{\",          \".join(x for x in temp)}')\n",
    "temp = [f'{x:.3f}' for x in BondPortfolio(specs)]\n",
    "print(f'{\",          \".join(x for x in temp)}')\n",
    "#>> specs=  [[-4255.203904904673, 0.06, 0.07, 1, 6], \n",
    "#                [3570.749415171064, 0.06, 0.1, 1, 6], \n",
    "#                [339.5818441118224, 0.06, 0.02, 1, 9]]"
   ]
  },
  {
   "cell_type": "code",
   "execution_count": 50,
   "metadata": {
    "ExecuteTime": {
     "end_time": "2020-04-09T13:04:36.068183Z",
     "start_time": "2020-04-09T13:04:35.466415Z"
    }
   },
   "outputs": [
    {
     "data": {
      "text/plain": [
       "Text(0, 0.5, 'convexity')"
      ]
     },
     "execution_count": 50,
     "metadata": {},
     "output_type": "execute_result"
    },
    {
     "data": {
      "image/png": "[encoded data removed]",
      "text/plain": [
       "<Figure size 576x864 with 3 Axes>"
      ]
     },
     "metadata": {
      "needs_background": "light"
     },
     "output_type": "display_data"
    }
   ],
   "source": [
    "#원래의 부채와 포트폴리오의 시장 YTM 변화에 따른 가격, 듀레이션, 컨벡서티 비교\n",
    "ytms = []\n",
    "prices = []\n",
    "durats = []\n",
    "convex = []\n",
    "prices0 = []\n",
    "durats0 = []\n",
    "convex0 = []\n",
    "#문서대로 코드를 채워서 그림을 완성하시오\n"
   ]
  },
  {
   "cell_type": "code",
   "execution_count": 37,
   "metadata": {},
   "outputs": [
    {
     "data": {
      "text/plain": [
       "matrix([[  3.14712874e+02,   7.00000000e-02,   7.00000000e-02,\n",
       "           1.00000000e+00,   6.00000000e+00],\n",
       "        [ -2.72880199e+02,   7.00000000e-02,   1.00000000e-01,\n",
       "           1.00000000e+00,   6.00000000e+00],\n",
       "        [  1.65163644e+01,   7.00000000e-02,   2.00000000e-02,\n",
       "           1.00000000e+00,   9.00000000e+00]])"
      ]
     },
     "execution_count": 37,
     "metadata": {},
     "output_type": "execute_result"
    }
   ],
   "source": [
    "specs = np.matrix([bond1, bond2, bond3])\n",
    "specs[:,0] = X[:,0]\n",
    "specs[:,1] = 0.07\n",
    "specs"
   ]
  },
  {
   "cell_type": "code",
   "execution_count": 46,
   "metadata": {},
   "outputs": [
    {
     "data": {
      "text/plain": [
       "(100, 0.08, 0.0, 1, 7)"
      ]
     },
     "execution_count": 46,
     "metadata": {},
     "output_type": "execute_result"
    }
   ],
   "source": [
    "oblig"
   ]
  },
  {
   "cell_type": "code",
   "execution_count": 9,
   "metadata": {},
   "outputs": [
    {
     "name": "stdout",
     "output_type": "stream",
     "text": [
      "price, duration, convexity\n",
      " 97.48,   8.57,  84.75\n",
      " 47.36,  13.76, 255.91\n",
      " 80.37,   4.68,  24.38\n",
      " 20.00,   6.34,  45.09\n",
      " 96.68,   8.57,  88.42\n"
     ]
    }
   ],
   "source": [
    "#포트폴리오 만들기\n",
    "#각 채권의 스펙을 리스트로 정리\n",
    "spec1 = [100, 0.035, 0.032, 4, 40] #10yr 3.2%, 100\n",
    "spec2 = [50 , 0.044, 0.040, 2, 40] #20yr 4.0%,  50\n",
    "spec3 = [80 , 0.027, 0.028, 4, 20] # 5yr 2.8%,  80\n",
    "spec4 = [20 , 0.030, 0.030, 4, 28] # 7yr 3.0%,  20\n",
    "spec5 = [100, 0.037, 0.033, 2, 20] #10yr 3.3%,  60\n",
    "\n",
    "specs = [spec1, spec2, spec3, spec4, spec5]\n",
    "\n",
    "print ('price, duration, convexity')\n",
    "for s in specs:\n",
    "    p = BondPricefromYTM(s[0],s[1],s[2],s[3],s[4])\n",
    "    d = BondDurationfromYTM(s[0],s[1],s[2],s[3],s[4])\n",
    "    c = BondConvexityfromYTM(s[0],s[1],s[2],s[3],s[4])\n",
    "\n",
    "    #print p, d, c\n",
    "    print ('{:6.2f}, {:6.2f}, {:6.2f}'.format(p, d, c))\n",
    "\n"
   ]
  },
  {
   "cell_type": "markdown",
   "metadata": {},
   "source": [
    "### 할인함수와 제로커브, 선도커브  \n",
    "\n",
    "- 만기에 따른 할인채권의 단위가격을 의미함. 제로금리는 할인채권의 이자율(YTM)을 의미하고 이를 연결한 곡선을 제로커브라 한다.    \n",
    "\n",
    "- 이표채 또는 이자율 스왑의 만기별 금리 테이블 $\\rightarrow$ 부스트레핑 과정 $\\rightarrow$ 할인함수 생성  \n",
    "\n",
    "- 이표채의 고시된 YTM을 이자지급주기를 가정(보통 6개월)하고 이 간격으로 선형보간을 이용하여 채워 넣는다.   \n",
    "\n",
    "- 첫번째 만기부터 순서대로 채권을 Par Coupon Bond로 가정하고 구두끈 엮듯이 할인율을 구해나간다.  \n",
    "\n",
    "- 최종결과는 시간이 주기(예 6개월)간격으로 채워진 시간축위의 할인율이다. 연속복리로 이자율(제로금리)를 표현한 경우   \n",
    "\n",
    "\\begin{equation}\n",
    "D(t) = e^{-z(t) \\,t}\n",
    "\\end{equation}\n",
    "\n",
    "\n",
    "- 할인채권의 가격 $\\rightarrow$ 년복리 기준으로 YTM추출 $\\rightarrow$ 비어있는 YTM은 선형보간 $\\rightarrow$ 원하는 시점의 할인율 구함\n"
   ]
  },
  {
   "cell_type": "markdown",
   "metadata": {},
   "source": [
    "### 구간할인율 $d_{1,2}$의 이해\n",
    "\n",
    "- 구간할인율 $d_{1,2}$은 단위원금 1 시점 $t_1$발행, $t_2$만기인 선도할인채권과 같다. <p>\n",
    "\n",
    "- 아래의 두 투자전략 (1), (2)의 가치가 동등하기 위한 $x$의 값은? <p>\n",
    "    > (1) 시점 $t_2$만기인 할인채권을 1단위 매입. (가격 $d_2$) <p>\n",
    "    > (2) 시점 $t_1$만기인 할인채권을 $x$단위 매입. (가격 $x d_1$),  시점 $t_1$발행, $t_2$만기인 선도할인채권을 가격 $x$에 1단위(=원금 1) 매입하는 선도계약을 맺음. <p>\n",
    "        \n",
    "- 펀딩(지출)비용 (1)과 (2)가 같아야 하므로 \n",
    "\\begin{equation*}\n",
    "        d_2 = x d_1 \\Rightarrow x = \\frac{d_2}{d_1} := d_{1,2} \n",
    "\\end{equation*}        "
   ]
  },
  {
   "cell_type": "markdown",
   "metadata": {},
   "source": [
    "#### Par Bond\n",
    "만기수익률(YTM)과 쿠폰금리(Coupon Rate)가 같을 경우 채권의 가격은 항상 액면가격과 같아진다. 이를 Par Bond라 한다.\n",
    "국고채권의 경우 발행시 쿠폰금리를 시장의 만기수익률(YTM)에 맞추어 발행을 많이한다. <p>\n",
    "- Discount Factor from Par Bond \n",
    "\\begin{align*}\n",
    "\\left( 1+ c_1 \\right) d_1 &= 1 \\\\\n",
    "c_1*d_1 + \\left( 1+ c_2 \\right) d_2 &= 1 \\\\\n",
    "c_1*d_1 + c_2*d_2 + \\left( 1+ c_3 \\right) d_3 &= 1 \\\\\n",
    "\\vdots  \\\\\n",
    "c_1*d_1 + \\cdots + c_{n-1}*d_{n-1} + \\left( 1+ c_n \\right) d_n &= 1\n",
    "\\end{align*} <p>\n",
    "\n",
    "예제) 만기에 따른 Par Bond로 할인율(함수) 구하기  \n",
    "(1년: y1), (2년: y2), ... , (10년: y10)과 같이 YTM이 형성이 되어 있을 때 각 만기별 할인율을 구하는 식을 세우시오\n"
   ]
  },
  {
   "cell_type": "code",
   "execution_count": 70,
   "metadata": {
    "ExecuteTime": {
     "end_time": "2020-04-10T00:41:11.445571Z",
     "start_time": "2020-04-10T00:41:10.984943Z"
    },
    "scrolled": false
   },
   "outputs": [
    {
     "name": "stdout",
     "output_type": "stream",
     "text": [
      " t: 0.25,  rate:0.020 \n",
      " t: 1.00,  rate:0.022 \n",
      " t: 2.00,  rate:0.025 \n",
      " t: 3.00,  rate:0.028 \n",
      " t: 4.00,  rate:0.033 \n",
      " t: 5.00,  rate:0.040 \n",
      " t: 6.00,  rate:0.045 \n",
      " t: 7.00,  rate:0.050 \n",
      " t: 8.00,  rate:0.055 \n",
      " t: 9.00,  rate:0.057 \n",
      " t:10.00,  rate:0.060 \n",
      " t:11.00,  rate:0.062 \n"
     ]
    },
    {
     "data": {
      "text/html": [
       "<div>\n",
       "<style scoped>\n",
       "    .dataframe tbody tr th:only-of-type {\n",
       "        vertical-align: middle;\n",
       "    }\n",
       "\n",
       "    .dataframe tbody tr th {\n",
       "        vertical-align: top;\n",
       "    }\n",
       "\n",
       "    .dataframe thead th {\n",
       "        text-align: right;\n",
       "    }\n",
       "</style>\n",
       "<table border=\"1\" class=\"dataframe\">\n",
       "  <thead>\n",
       "    <tr style=\"text-align: right;\">\n",
       "      <th></th>\n",
       "      <th>ytm</th>\n",
       "      <th>zero</th>\n",
       "      <th>forward3m</th>\n",
       "      <th>discount</th>\n",
       "    </tr>\n",
       "  </thead>\n",
       "  <tbody>\n",
       "    <tr>\n",
       "      <th>0.25</th>\n",
       "      <td>0.020000</td>\n",
       "      <td>0.020151</td>\n",
       "      <td>0.020000</td>\n",
       "      <td>0.995025</td>\n",
       "    </tr>\n",
       "    <tr>\n",
       "      <th>0.50</th>\n",
       "      <td>0.020667</td>\n",
       "      <td>0.020829</td>\n",
       "      <td>0.021337</td>\n",
       "      <td>0.989745</td>\n",
       "    </tr>\n",
       "    <tr>\n",
       "      <th>0.75</th>\n",
       "      <td>0.021333</td>\n",
       "      <td>0.021509</td>\n",
       "      <td>0.022678</td>\n",
       "      <td>0.984166</td>\n",
       "    </tr>\n",
       "    <tr>\n",
       "      <th>1.00</th>\n",
       "      <td>0.022000</td>\n",
       "      <td>0.022192</td>\n",
       "      <td>0.024023</td>\n",
       "      <td>0.978290</td>\n",
       "    </tr>\n",
       "    <tr>\n",
       "      <th>1.25</th>\n",
       "      <td>0.022750</td>\n",
       "      <td>0.022961</td>\n",
       "      <td>0.025796</td>\n",
       "      <td>0.972022</td>\n",
       "    </tr>\n",
       "    <tr>\n",
       "      <th>1.50</th>\n",
       "      <td>0.023500</td>\n",
       "      <td>0.023733</td>\n",
       "      <td>0.027322</td>\n",
       "      <td>0.965428</td>\n",
       "    </tr>\n",
       "    <tr>\n",
       "      <th>1.75</th>\n",
       "      <td>0.024250</td>\n",
       "      <td>0.024508</td>\n",
       "      <td>0.028855</td>\n",
       "      <td>0.958513</td>\n",
       "    </tr>\n",
       "    <tr>\n",
       "      <th>2.00</th>\n",
       "      <td>0.025000</td>\n",
       "      <td>0.025285</td>\n",
       "      <td>0.030395</td>\n",
       "      <td>0.951285</td>\n",
       "    </tr>\n",
       "    <tr>\n",
       "      <th>2.25</th>\n",
       "      <td>0.025750</td>\n",
       "      <td>0.026066</td>\n",
       "      <td>0.031944</td>\n",
       "      <td>0.943748</td>\n",
       "    </tr>\n",
       "    <tr>\n",
       "      <th>2.50</th>\n",
       "      <td>0.026500</td>\n",
       "      <td>0.026849</td>\n",
       "      <td>0.033502</td>\n",
       "      <td>0.935909</td>\n",
       "    </tr>\n",
       "    <tr>\n",
       "      <th>2.75</th>\n",
       "      <td>0.027250</td>\n",
       "      <td>0.027636</td>\n",
       "      <td>0.035070</td>\n",
       "      <td>0.927775</td>\n",
       "    </tr>\n",
       "    <tr>\n",
       "      <th>3.00</th>\n",
       "      <td>0.028000</td>\n",
       "      <td>0.028426</td>\n",
       "      <td>0.036649</td>\n",
       "      <td>0.919351</td>\n",
       "    </tr>\n",
       "    <tr>\n",
       "      <th>3.25</th>\n",
       "      <td>0.029250</td>\n",
       "      <td>0.029756</td>\n",
       "      <td>0.045092</td>\n",
       "      <td>0.909103</td>\n",
       "    </tr>\n",
       "    <tr>\n",
       "      <th>3.50</th>\n",
       "      <td>0.030500</td>\n",
       "      <td>0.031095</td>\n",
       "      <td>0.047796</td>\n",
       "      <td>0.898368</td>\n",
       "    </tr>\n",
       "    <tr>\n",
       "      <th>3.75</th>\n",
       "      <td>0.031750</td>\n",
       "      <td>0.032443</td>\n",
       "      <td>0.050530</td>\n",
       "      <td>0.887161</td>\n",
       "    </tr>\n",
       "    <tr>\n",
       "      <th>4.00</th>\n",
       "      <td>0.033000</td>\n",
       "      <td>0.033800</td>\n",
       "      <td>0.053297</td>\n",
       "      <td>0.875496</td>\n",
       "    </tr>\n",
       "    <tr>\n",
       "      <th>4.25</th>\n",
       "      <td>0.034750</td>\n",
       "      <td>0.035726</td>\n",
       "      <td>0.065409</td>\n",
       "      <td>0.861410</td>\n",
       "    </tr>\n",
       "    <tr>\n",
       "      <th>4.50</th>\n",
       "      <td>0.036500</td>\n",
       "      <td>0.037671</td>\n",
       "      <td>0.069472</td>\n",
       "      <td>0.846705</td>\n",
       "    </tr>\n",
       "    <tr>\n",
       "      <th>4.75</th>\n",
       "      <td>0.038250</td>\n",
       "      <td>0.039637</td>\n",
       "      <td>0.073611</td>\n",
       "      <td>0.831404</td>\n",
       "    </tr>\n",
       "    <tr>\n",
       "      <th>5.00</th>\n",
       "      <td>0.040000</td>\n",
       "      <td>0.041625</td>\n",
       "      <td>0.077833</td>\n",
       "      <td>0.815536</td>\n",
       "    </tr>\n",
       "    <tr>\n",
       "      <th>5.25</th>\n",
       "      <td>0.041250</td>\n",
       "      <td>0.043046</td>\n",
       "      <td>0.070018</td>\n",
       "      <td>0.801506</td>\n",
       "    </tr>\n",
       "    <tr>\n",
       "      <th>5.50</th>\n",
       "      <td>0.042500</td>\n",
       "      <td>0.044482</td>\n",
       "      <td>0.073067</td>\n",
       "      <td>0.787127</td>\n",
       "    </tr>\n",
       "    <tr>\n",
       "      <th>5.75</th>\n",
       "      <td>0.043750</td>\n",
       "      <td>0.045933</td>\n",
       "      <td>0.076173</td>\n",
       "      <td>0.772418</td>\n",
       "    </tr>\n",
       "    <tr>\n",
       "      <th>6.00</th>\n",
       "      <td>0.045000</td>\n",
       "      <td>0.047401</td>\n",
       "      <td>0.079341</td>\n",
       "      <td>0.757395</td>\n",
       "    </tr>\n",
       "    <tr>\n",
       "      <th>6.25</th>\n",
       "      <td>0.046250</td>\n",
       "      <td>0.048886</td>\n",
       "      <td>0.082575</td>\n",
       "      <td>0.742076</td>\n",
       "    </tr>\n",
       "    <tr>\n",
       "      <th>6.50</th>\n",
       "      <td>0.047500</td>\n",
       "      <td>0.050390</td>\n",
       "      <td>0.085882</td>\n",
       "      <td>0.726478</td>\n",
       "    </tr>\n",
       "    <tr>\n",
       "      <th>6.75</th>\n",
       "      <td>0.048750</td>\n",
       "      <td>0.051913</td>\n",
       "      <td>0.089266</td>\n",
       "      <td>0.710619</td>\n",
       "    </tr>\n",
       "    <tr>\n",
       "      <th>7.00</th>\n",
       "      <td>0.050000</td>\n",
       "      <td>0.053457</td>\n",
       "      <td>0.092735</td>\n",
       "      <td>0.694518</td>\n",
       "    </tr>\n",
       "    <tr>\n",
       "      <th>7.25</th>\n",
       "      <td>0.051250</td>\n",
       "      <td>0.055023</td>\n",
       "      <td>0.096294</td>\n",
       "      <td>0.678191</td>\n",
       "    </tr>\n",
       "    <tr>\n",
       "      <th>7.50</th>\n",
       "      <td>0.052500</td>\n",
       "      <td>0.056612</td>\n",
       "      <td>0.099950</td>\n",
       "      <td>0.661658</td>\n",
       "    </tr>\n",
       "    <tr>\n",
       "      <th>7.75</th>\n",
       "      <td>0.053750</td>\n",
       "      <td>0.058226</td>\n",
       "      <td>0.103713</td>\n",
       "      <td>0.644936</td>\n",
       "    </tr>\n",
       "    <tr>\n",
       "      <th>8.00</th>\n",
       "      <td>0.055000</td>\n",
       "      <td>0.059867</td>\n",
       "      <td>0.107591</td>\n",
       "      <td>0.628043</td>\n",
       "    </tr>\n",
       "    <tr>\n",
       "      <th>8.25</th>\n",
       "      <td>0.055500</td>\n",
       "      <td>0.060463</td>\n",
       "      <td>0.077453</td>\n",
       "      <td>0.616113</td>\n",
       "    </tr>\n",
       "    <tr>\n",
       "      <th>8.50</th>\n",
       "      <td>0.056000</td>\n",
       "      <td>0.061069</td>\n",
       "      <td>0.078896</td>\n",
       "      <td>0.604196</td>\n",
       "    </tr>\n",
       "    <tr>\n",
       "      <th>8.75</th>\n",
       "      <td>0.056500</td>\n",
       "      <td>0.061685</td>\n",
       "      <td>0.080366</td>\n",
       "      <td>0.592296</td>\n",
       "    </tr>\n",
       "    <tr>\n",
       "      <th>9.00</th>\n",
       "      <td>0.057000</td>\n",
       "      <td>0.062310</td>\n",
       "      <td>0.081865</td>\n",
       "      <td>0.580417</td>\n",
       "    </tr>\n",
       "    <tr>\n",
       "      <th>9.25</th>\n",
       "      <td>0.057750</td>\n",
       "      <td>0.063318</td>\n",
       "      <td>0.096717</td>\n",
       "      <td>0.566714</td>\n",
       "    </tr>\n",
       "    <tr>\n",
       "      <th>9.50</th>\n",
       "      <td>0.058500</td>\n",
       "      <td>0.064343</td>\n",
       "      <td>0.099202</td>\n",
       "      <td>0.552999</td>\n",
       "    </tr>\n",
       "    <tr>\n",
       "      <th>9.75</th>\n",
       "      <td>0.059250</td>\n",
       "      <td>0.065384</td>\n",
       "      <td>0.101757</td>\n",
       "      <td>0.539281</td>\n",
       "    </tr>\n",
       "    <tr>\n",
       "      <th>10.00</th>\n",
       "      <td>0.060000</td>\n",
       "      <td>0.066442</td>\n",
       "      <td>0.104386</td>\n",
       "      <td>0.525565</td>\n",
       "    </tr>\n",
       "    <tr>\n",
       "      <th>10.25</th>\n",
       "      <td>0.060500</td>\n",
       "      <td>0.067117</td>\n",
       "      <td>0.091277</td>\n",
       "      <td>0.513840</td>\n",
       "    </tr>\n",
       "    <tr>\n",
       "      <th>10.50</th>\n",
       "      <td>0.061000</td>\n",
       "      <td>0.067802</td>\n",
       "      <td>0.093004</td>\n",
       "      <td>0.502164</td>\n",
       "    </tr>\n",
       "    <tr>\n",
       "      <th>10.75</th>\n",
       "      <td>0.061500</td>\n",
       "      <td>0.068500</td>\n",
       "      <td>0.094774</td>\n",
       "      <td>0.490541</td>\n",
       "    </tr>\n",
       "    <tr>\n",
       "      <th>11.00</th>\n",
       "      <td>0.062000</td>\n",
       "      <td>0.069209</td>\n",
       "      <td>0.096590</td>\n",
       "      <td>0.478975</td>\n",
       "    </tr>\n",
       "  </tbody>\n",
       "</table>\n",
       "</div>"
      ],
      "text/plain": [
       "            ytm      zero  forward3m  discount\n",
       "0.25   0.020000  0.020151   0.020000  0.995025\n",
       "0.50   0.020667  0.020829   0.021337  0.989745\n",
       "0.75   0.021333  0.021509   0.022678  0.984166\n",
       "1.00   0.022000  0.022192   0.024023  0.978290\n",
       "1.25   0.022750  0.022961   0.025796  0.972022\n",
       "1.50   0.023500  0.023733   0.027322  0.965428\n",
       "1.75   0.024250  0.024508   0.028855  0.958513\n",
       "2.00   0.025000  0.025285   0.030395  0.951285\n",
       "2.25   0.025750  0.026066   0.031944  0.943748\n",
       "2.50   0.026500  0.026849   0.033502  0.935909\n",
       "2.75   0.027250  0.027636   0.035070  0.927775\n",
       "3.00   0.028000  0.028426   0.036649  0.919351\n",
       "3.25   0.029250  0.029756   0.045092  0.909103\n",
       "3.50   0.030500  0.031095   0.047796  0.898368\n",
       "3.75   0.031750  0.032443   0.050530  0.887161\n",
       "4.00   0.033000  0.033800   0.053297  0.875496\n",
       "4.25   0.034750  0.035726   0.065409  0.861410\n",
       "4.50   0.036500  0.037671   0.069472  0.846705\n",
       "4.75   0.038250  0.039637   0.073611  0.831404\n",
       "5.00   0.040000  0.041625   0.077833  0.815536\n",
       "5.25   0.041250  0.043046   0.070018  0.801506\n",
       "5.50   0.042500  0.044482   0.073067  0.787127\n",
       "5.75   0.043750  0.045933   0.076173  0.772418\n",
       "6.00   0.045000  0.047401   0.079341  0.757395\n",
       "6.25   0.046250  0.048886   0.082575  0.742076\n",
       "6.50   0.047500  0.050390   0.085882  0.726478\n",
       "6.75   0.048750  0.051913   0.089266  0.710619\n",
       "7.00   0.050000  0.053457   0.092735  0.694518\n",
       "7.25   0.051250  0.055023   0.096294  0.678191\n",
       "7.50   0.052500  0.056612   0.099950  0.661658\n",
       "7.75   0.053750  0.058226   0.103713  0.644936\n",
       "8.00   0.055000  0.059867   0.107591  0.628043\n",
       "8.25   0.055500  0.060463   0.077453  0.616113\n",
       "8.50   0.056000  0.061069   0.078896  0.604196\n",
       "8.75   0.056500  0.061685   0.080366  0.592296\n",
       "9.00   0.057000  0.062310   0.081865  0.580417\n",
       "9.25   0.057750  0.063318   0.096717  0.566714\n",
       "9.50   0.058500  0.064343   0.099202  0.552999\n",
       "9.75   0.059250  0.065384   0.101757  0.539281\n",
       "10.00  0.060000  0.066442   0.104386  0.525565\n",
       "10.25  0.060500  0.067117   0.091277  0.513840\n",
       "10.50  0.061000  0.067802   0.093004  0.502164\n",
       "10.75  0.061500  0.068500   0.094774  0.490541\n",
       "11.00  0.062000  0.069209   0.096590  0.478975"
      ]
     },
     "execution_count": 70,
     "metadata": {},
     "output_type": "execute_result"
    },
    {
     "data": {
      "image/png": "[encoded data removed]",
      "text/plain": [
       "<Figure size 576x432 with 2 Axes>"
      ]
     },
     "metadata": {
      "needs_background": "light"
     },
     "output_type": "display_data"
    }
   ],
   "source": [
    "#BOOSTRAPPING Python Code\n",
    "#3m 주기  스왑금리 설정\n",
    "rates = np.array( [2, 2.2, 2.5, 2.8, 3.3, 4, 4.5, 5, 5.5, 5.7, 6, 6.2] )/100.0\n",
    "times = np.array(  [0.25] +  [i for i in range(1, len(rates)) ]    )\n",
    "for t, r in zip(times, rates):\n",
    "    print(f' t:{t:5.2f},  rate:{r:5.3f} ')\n",
    "    \n",
    "freq = 4 #num of coupons per year\n",
    "perd = 1/freq  #tau\n",
    "start = times[0]\n",
    "endt = times[-1]\n",
    "times2 = np.arange(start, endt+perd, perd)\n",
    "rates2 = np.interp(times2, times, rates)\n",
    "discs = []\n",
    "zeros = []\n",
    "\n",
    "for i,t in enumerate(times2):\n",
    "    #cf = rates2[i]*perd\n",
    "    #채워서 표와 그림이 나오게 완성하시오"
   ]
  },
  {
   "cell_type": "markdown",
   "metadata": {},
   "source": [
    "### 스왑계약의 손익 계산 (숙제)\n",
    "위의 예)에 고시된  스왑금리에 따라 A회사는 B회사와 만기 3년, 원금 100억인 스왑 PAY FIXED거래를 체결하였다.  \n",
    "1년 후 모든 만기에 걸쳐 스왑금리가 2%씩 상승하였다.  A회사의 손익을 계산하여라. \n",
    "\n",
    "  만기.       스왑금리,   1년 후     <p>\n",
    " 0.25,    0.020   --> 0.04  <p>\n",
    " 1.00,    0.022    --> 0.042 <p>\n",
    " 2.00,    0.025   --> 0.045  <p>\n",
    " 3.00,    0.028   --> 0.048   <p>\n",
    "\n",
    " 힌트) 3개월 변동금리 - 고정금리 2.8%를 지급하는 현금흐름의 현가 <p>\n",
    "     \n",
    " $N\\cdot ( 1-d_n - R\\cdot annuity ) $ <p>\n",
    " $100억 \\times \\left(  \\underbrace{[1-d(2)]}_{\\text{Floating}} -  \\underbrace{ 2.8\\% \\cdot 0.25 \\cdot [ d(0.25)+d(0.5)+d(0.75)+d(1)+d(1.25)+d(1.5)+d(1.75)+d(2)  ]}_{\\text{Fixed}} \\right) $\n",
    "     \n",
    "- 스왑의 변동금리 Leg의 현가 $1-d_n$: \n",
    "     시장에 따라 변하는 할인율 $d_n$이 존재하지만,  \n",
    "바닐라 이자율 스왑: 양쪽 Leg 모두 원금이 없음.   \n",
    "     따라서  $R\\cdot annuity - (1-d_n) =  \\underbrace{ R\\cdot annuity+d_n}_{Fixed Coupon Bond} -1 \\Rightarrow $ 쿠폰 $R$인 고정이표채권 - 원금과 같음.   <p>\n",
    "또한 만기가 감소하면 $d_n \\rightarrow 1 \\Rightarrow 1-d_n \\rightarrow 0 $ .\n",
    "     "
   ]
  },
  {
   "cell_type": "code",
   "execution_count": 57,
   "metadata": {
    "ExecuteTime": {
     "end_time": "2020-04-09T00:12:40.084538Z",
     "start_time": "2020-04-09T00:12:39.725566Z"
    }
   },
   "outputs": [
    {
     "name": "stdout",
     "output_type": "stream",
     "text": [
      "[0.02  0.022 0.025 0.028 0.033 0.04  0.045 0.05  0.055 0.057 0.06  0.062]\n",
      "[0.25 0.5  0.75 1.   1.25 1.5  1.75 2.   2.25 2.5  2.75 3.  ]\n",
      "[]\n",
      "0 1.0\n",
      "[0.0055]\n",
      "1 0.9945300845350572\n",
      "[0.00625 0.00625]\n",
      "2 0.9876116143817698\n",
      "[0.007 0.007 0.007]\n",
      "3 0.9792701172865762\n",
      "[0.00825 0.00825 0.00825 0.00825]\n",
      "4 0.967585769914527\n",
      "[0.01 0.01 0.01 0.01 0.01]\n",
      "5 0.9511980437018026\n",
      "[0.01125 0.01125 0.01125 0.01125 0.01125 0.01125]\n",
      "6 0.9345837321775308\n",
      "[0.0125 0.0125 0.0125 0.0125 0.0125 0.0125 0.0125]\n",
      "7 0.9158669214568239\n",
      "[0.01375 0.01375 0.01375 0.01375 0.01375 0.01375 0.01375 0.01375]\n",
      "8 0.8951453648360111\n",
      "[0.01425 0.01425 0.01425 0.01425 0.01425 0.01425 0.01425 0.01425 0.01425]\n",
      "9 0.8788094345692542\n",
      "[0.015 0.015 0.015 0.015 0.015 0.015 0.015 0.015 0.015 0.015]\n",
      "10 0.8595379150316351\n",
      "[0.0155 0.0155 0.0155 0.0155 0.0155 0.0155 0.0155 0.0155 0.0155 0.0155\n",
      " 0.0155]\n",
      "11 0.8418078242567107\n"
     ]
    },
    {
     "data": {
      "text/plain": [
       "Text(0, 0.5, 'discount')"
      ]
     },
     "execution_count": 57,
     "metadata": {},
     "output_type": "execute_result"
    },
    {
     "data": {
      "image/png": "[encoded data removed]",
      "text/plain": [
       "<Figure size 576x432 with 2 Axes>"
      ]
     },
     "metadata": {
      "needs_background": "light"
     },
     "output_type": "display_data"
    }
   ],
   "source": [
    "import numpy as np\n",
    "#assume rates is ytm of par bond\n",
    "rates = np.array([2, 2.2, 2.5, 2.8, 3.3, 4, 4.5, 5, 5.5, 5.7, 6, 6.2])/100.0\n",
    "times = np.arange(1,13)*0.25\n",
    "freq = 4.\n",
    "print ( rates)\n",
    "print ( times)\n",
    "plt.figure(figsize=(8,6))\n",
    "plt.plot(times, rates, 'r--o')\n",
    "plt.ylabel('rates',color='r',fontsize=15)\n",
    "plt.xlabel('times', fontsize=15)\n",
    "discs = []\n",
    "for i,t in enumerate(times):\n",
    "    r = rates[i]/freq\n",
    "    cf = np.ones(i)*r\n",
    "    print (cf)\n",
    "    price=0\n",
    "    for j,d in enumerate(discs):\n",
    "        price += d*cf[j]\n",
    "    cflast = 1+r\n",
    "    d = 1-price/cflast\n",
    "    discs.append(d)\n",
    "    print( i,d)\n",
    "   \n",
    "plt.gca().twinx().plot(times, discs, 'b--*')   \n",
    "plt.ylabel('discount',color='b',fontsize=15)"
   ]
  },
  {
   "cell_type": "markdown",
   "metadata": {
    "collapsed": true
   },
   "source": [
    "#### 숙제  (Constructing a Zero-Coupon Bond; Replication Strategy)\n",
    "Two bonds, **A and B both mature in ten years** time. **Bond A has a 7%**\n",
    "coupon and currently sells for 97, while bond **B has a 9%** coupon and currently\n",
    "sells for 103. The face value of both bonds is 100. Compute the price of a\n",
    "ten-year zero-coupon bond that has a face value of 100. <p>\n",
    "\n",
    "--- \n",
    "   \n",
    "- Solution: Hint -- using discount function $df(1),\\cdots,df(10)$ <p>\n",
    "Consider a portfolio that buys negative (i.e., is short) seven bonds of\n",
    "type B and buys nine of type A. The coupon payments in this portfolio cancel\n",
    "and the terminal value at t = 10 is 200. The initial cost is $−7 \\times 103+9 \\times 97 = 152$. \n",
    "The cost of a zero with face value equal to 100 is therefore 76. \n",
    "(The10-year spot rate, s10, is then equal to 2.78%."
   ]
  },
  {
   "cell_type": "markdown",
   "metadata": {},
   "source": [
    "#### 숙제 (Constructing an Immunized Portfolio) \n",
    "An insurance company must make a payment of 19,487 in 7 years. The market interest rate is 10%, so the present value of the obligation is 10,000. <p>\n",
    "The company’s portfolio manager wishes to fund the obligation using 3-year zero-coupon bonds and perpetuities\n",
    "paying annual coupons. (We focus on zeros and perpetuities to keep\n",
    "the algebra simple.) How can the manager immunize the obligation?\n",
    "\n",
    "\n",
    "#### 숙제  (Arbitrage in a 1-Period Model)\n",
    "Suppose at t = 0 the 1-year, 2-year and 3-year spot rates are given by 10%,\n",
    "11% and 12%, respectively. One year from now the 1-year, 2-year and 3-year\n",
    "spot rates will either have increased to [11% 12% 13%] or decreased to [9% 10%\n",
    "11%]. Note that this example assumes that only parallel movements in the spot\n",
    "rates can occur.\n",
    "If we assume continuous compounding, then we can see that the forward\n",
    "rate, $f_{1,2}$, at $t = 0$ is given by \n",
    "    \n",
    "\\begin{equation*} \n",
    "    f_{1,2} = \\frac{2 \\cdot 11\\% − 1 \\cdot 10\\%}{2-1} = 12\\% \n",
    "\\end{equation*} \n",
    "    \n",
    "This forward rate, however, is higher than either of the possible 1-year spot\n",
    "rates prevailing at $t = 1$ and so there is an arbitrage opportunity. <p>\n"
   ]
  },
  {
   "cell_type": "code",
   "execution_count": null,
   "metadata": {},
   "outputs": [],
   "source": []
  },
  {
   "cell_type": "code",
   "execution_count": null,
   "metadata": {},
   "outputs": [],
   "source": []
  },
  {
   "cell_type": "code",
   "execution_count": null,
   "metadata": {},
   "outputs": [],
   "source": []
  },
  {
   "cell_type": "code",
   "execution_count": null,
   "metadata": {},
   "outputs": [],
   "source": []
  },
  {
   "cell_type": "code",
   "execution_count": null,
   "metadata": {},
   "outputs": [],
   "source": []
  },
  {
   "cell_type": "code",
   "execution_count": null,
   "metadata": {},
   "outputs": [],
   "source": []
  },
  {
   "cell_type": "code",
   "execution_count": null,
   "metadata": {},
   "outputs": [],
   "source": []
  },
  {
   "cell_type": "code",
   "execution_count": null,
   "metadata": {},
   "outputs": [],
   "source": []
  },
  {
   "cell_type": "code",
   "execution_count": null,
   "metadata": {},
   "outputs": [],
   "source": []
  },
  {
   "cell_type": "code",
   "execution_count": null,
   "metadata": {},
   "outputs": [],
   "source": []
  },
  {
   "cell_type": "code",
   "execution_count": null,
   "metadata": {},
   "outputs": [],
   "source": []
  },
  {
   "cell_type": "code",
   "execution_count": 2,
   "metadata": {
    "ExecuteTime": {
     "end_time": "2017-11-16T01:41:25.152000Z",
     "start_time": "2017-11-16T01:41:24.860000Z"
    }
   },
   "outputs": [
    {
     "data": {
      "image/png": "[encoded data removed]",
      "text/plain": [
       "<matplotlib.figure.Figure at 0x5e7d550>"
      ]
     },
     "metadata": {},
     "output_type": "display_data"
    }
   ],
   "source": [
    "import numpy as np\n",
    "import numpy.random as npr\n",
    "\n",
    "S0=100\n",
    "r=0.05\n",
    "sigma=0.25\n",
    "T=1\n",
    "N=100000\n",
    "S1 = S0*np.exp((r-0.5*sigma**2)*T + sigma*np.sqrt(T)*npr.standard_normal(N))\n",
    "\n",
    "plt.hist(S1,bins=50)\n",
    "plt.xlabel('index level')\n",
    "plt.ylabel('frequency')\n",
    "plt.grid(True)\n",
    "\n"
   ]
  },
  {
   "cell_type": "code",
   "execution_count": 35,
   "metadata": {
    "ExecuteTime": {
     "end_time": "2017-11-16T02:29:15.633000Z",
     "start_time": "2017-11-16T02:29:01.106000Z"
    }
   },
   "outputs": [
    {
     "name": "stdout",
     "output_type": "stream",
     "text": [
      "time,      mean,      var\n",
      "1.0000000, 0.9982655, 1.9992105\n",
      "0.5000000, 0.5004093, 0.5006069\n",
      "0.1000000, 0.1001495, 0.0200144\n",
      "0.0100000, 0.0099904, 0.0001995\n",
      "0.0010000, 0.0010005, 0.0000020\n",
      "0.0001000, 0.0000998, 0.0000000\n",
      "0.0000100, 0.0000100, 0.0000000\n",
      "0.0000010, 0.0000010, 0.0000000\n"
     ]
    },
    {
     "data": {
      "image/png": "[encoded data removed]",
      "text/plain": [
       "<matplotlib.figure.Figure at 0x1b2e65c0>"
      ]
     },
     "metadata": {},
     "output_type": "display_data"
    }
   ],
   "source": [
    "Wt = lambda T,N: np.sqrt(T)*npr.standard_normal(N)\n",
    "Wt2 = lambda T,N: Wt(T,N)**2\n",
    "fig, ax = plt.subplots(nrows=1, ncols=1, figsize=(12,8))\n",
    "times = [1,0.5,0.1,0.01,0.001, 0.0001, 0.00001, 0.000001]\n",
    "print 'time,      mean,      var'\n",
    "n=1000000\n",
    "for i,t in enumerate(times):\n",
    "    X=Wt2(t,n)\n",
    "    leg = '{:,.7f}, {:,.7f}, {:,.7f}'.format(t, np.mean(X), np.var(X))\n",
    "    #leg = 'hist of W^2 time={:,.4f}'.format(t)\n",
    "    print leg\n",
    "    ax.hist(X, bins=1000, alpha=0.3, label=leg)\n",
    "ax.set_xlim(0,0.5)\n",
    "ax.legend(loc='upper right', shadow=True)\n",
    "ax.set_title('histogram of w^2 for times')\n",
    "plt.xlabel('value')\n",
    "plt.ylabel('frequency')\n",
    "plt.grid(True)"
   ]
  },
  {
   "cell_type": "markdown",
   "metadata": {},
   "source": [
    "\\begin{gather}\n",
    " \\begin{bmatrix} \\frac{dS_1}{S_1} \\\\  \\frac{dS_2}{S_2} \\\\ \\vdots \\\\ \\frac{dS_n}{S_n} \\end{bmatrix} \n",
    " = rdt +\n",
    "  \\begin{bmatrix}\n",
    "   \\sigma_{1,1}, \\sigma_{1,2}, \\cdots, \\sigma_{1,n} \\\\\n",
    "   \\sigma_{2,1}, \\sigma_{2,2}, \\cdots, \\sigma_{2,n} \\\\\n",
    "   \\vdots \\\\\n",
    "   \\vdots \\\\\n",
    "   \\sigma_{n,1}, \\sigma_{n,2}, \\cdots, \\sigma_{n,n} \\\\\n",
    "   \\end{bmatrix}\n",
    " \\cdot\n",
    " \\begin{bmatrix} dZ_1 \\\\ dZ_2 \\\\ \\vdots \\\\ \\vdots \\\\ dZ_n \\end{bmatrix} \n",
    "\\end{gather}\n",
    "  \n",
    "$$ \\frac{dS_1}{S_1} = rdt +  \n",
    "\\sigma_{1,1} dZ_1 + \\sigma_{1,2} dZ_2 + \\cdots + \n",
    "\\sigma_{1,n} dZ_n \n",
    "\\rightarrow\n",
    "\\frac{dS_1}{S_1} = rdt +  \\sigma dZ\n",
    "$$\n",
    " "
   ]
  },
  {
   "cell_type": "code",
   "execution_count": null,
   "metadata": {
    "collapsed": true
   },
   "outputs": [],
   "source": []
  },
  {
   "cell_type": "code",
   "execution_count": null,
   "metadata": {
    "collapsed": true
   },
   "outputs": [],
   "source": []
  },
  {
   "cell_type": "code",
   "execution_count": null,
   "metadata": {
    "collapsed": true
   },
   "outputs": [],
   "source": []
  },
  {
   "cell_type": "code",
   "execution_count": null,
   "metadata": {
    "collapsed": true
   },
   "outputs": [],
   "source": []
  }
 ],
 "metadata": {
  "kernelspec": {
   "display_name": "Python 3",
   "language": "python",
   "name": "python3"
  },
  "language_info": {
   "codemirror_mode": {
    "name": "ipython",
    "version": 3
   },
   "file_extension": ".py",
   "mimetype": "text/x-python",
   "name": "python",
   "nbconvert_exporter": "python",
   "pygments_lexer": "ipython3",
   "version": "3.7.1"
  },
  "latex_envs": {
   "LaTeX_envs_menu_present": true,
   "autoclose": false,
   "autocomplete": true,
   "bibliofile": "biblio.bib",
   "cite_by": "apalike",
   "current_citInitial": 1,
   "eqLabelWithNumbers": true,
   "eqNumInitial": 1,
   "hotkeys": {
    "equation": "Ctrl-E",
    "itemize": "Ctrl-I"
   },
   "labels_anchors": false,
   "latex_user_defs": false,
   "report_style_numbering": false,
   "user_envs_cfg": false
  },
  "varInspector": {
   "cols": {
    "lenName": 16,
    "lenType": 16,
    "lenVar": 40
   },
   "kernels_config": {
    "python": {
     "delete_cmd_postfix": "",
     "delete_cmd_prefix": "del ",
     "library": "var_list.py",
     "varRefreshCmd": "print(var_dic_list())"
    },
    "r": {
     "delete_cmd_postfix": ") ",
     "delete_cmd_prefix": "rm(",
     "library": "var_list.r",
     "varRefreshCmd": "cat(var_dic_list()) "
    }
   },
   "types_to_exclude": [
    "module",
    "function",
    "builtin_function_or_method",
    "instance",
    "_Feature"
   ],
   "window_display": false
  }
 },
 "nbformat": 4,
 "nbformat_minor": 2
}
